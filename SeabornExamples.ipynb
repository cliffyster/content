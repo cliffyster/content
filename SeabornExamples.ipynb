{
  "nbformat": 4,
  "nbformat_minor": 0,
  "metadata": {
    "colab": {
      "name": "Untitled1.ipynb",
      "provenance": [],
      "include_colab_link": true
    },
    "kernelspec": {
      "name": "python3",
      "display_name": "Python 3"
    }
  },
  "cells": [
    {
      "cell_type": "markdown",
      "metadata": {
        "id": "view-in-github",
        "colab_type": "text"
      },
      "source": [
        "<a href=\"https://colab.research.google.com/github/cliffyster/content/blob/master/SeabornExamples.ipynb\" target=\"_parent\"><img src=\"https://colab.research.google.com/assets/colab-badge.svg\" alt=\"Open In Colab\"/></a>"
      ]
    },
    {
      "cell_type": "code",
      "metadata": {
        "id": "261ZBzrLe5kj",
        "colab_type": "code",
        "colab": {}
      },
      "source": [
        "import matplotlib.pyplot as plt\n",
        "plt.style.use('classic')\n",
        "%matplotlib inline\n",
        "import numpy as np\n",
        "import pandas as pd\n",
        "import seaborn as sns\n"
      ],
      "execution_count": 0,
      "outputs": []
    },
    {
      "cell_type": "markdown",
      "metadata": {
        "id": "Gy7U3gyXfTZO",
        "colab_type": "text"
      },
      "source": [
        ""
      ]
    },
    {
      "cell_type": "code",
      "metadata": {
        "id": "R-Vfy_yefTvm",
        "colab_type": "code",
        "colab": {}
      },
      "source": [
        "# Create some data\n",
        "rng = np.random.RandomState(0)\n",
        "x = np.linspace(0, 10, 500)\n",
        "y = np.cumsum(rng.randn(500, 6), 0)"
      ],
      "execution_count": 0,
      "outputs": []
    },
    {
      "cell_type": "code",
      "metadata": {
        "id": "9YWaU12ef2mF",
        "colab_type": "code",
        "colab": {}
      },
      "source": [
        "sns.lmplot(data=df,\n",
        "         x=\"insurance_losses\",\n",
        "         y=\"premiums\")\n",
        "\n",
        "# Display the plot\n",
        "plt.show()"
      ],
      "execution_count": 0,
      "outputs": []
    },
    {
      "cell_type": "code",
      "metadata": {
        "id": "Sjm7lCouh0wu",
        "colab_type": "code",
        "colab": {}
      },
      "source": [
        "# Plot with a dark style \n",
        "sns.set_style('dark')\n",
        "sns.distplot(df['fmr_2'])\n",
        "plt.show()\n",
        "\n",
        "# Clear the figure\n",
        "plt.clf()"
      ],
      "execution_count": 0,
      "outputs": []
    },
    {
      "cell_type": "markdown",
      "metadata": {
        "id": "TxFViDI5nsCj",
        "colab_type": "text"
      },
      "source": [
        ""
      ]
    },
    {
      "cell_type": "code",
      "metadata": {
        "id": "huDSMfBinp-r",
        "colab_type": "code",
        "colab": {}
      },
      "source": [
        "# Loop through differences between bright and colorblind palettes\n",
        "for p in ['bright', 'colorblind']:\n",
        "    sns.set_palette(p)\n",
        "    sns.distplot(df['fmr_3'])\n",
        "    plt.show()\n",
        "    \n",
        "    # Clear the plots    \n",
        "    plt.clf()"
      ],
      "execution_count": 0,
      "outputs": []
    },
    {
      "cell_type": "markdown",
      "metadata": {
        "id": "64z4-kgmnrMu",
        "colab_type": "text"
      },
      "source": [
        "The above code loops through color palette for seaborn. "
      ]
    }
  ]
}